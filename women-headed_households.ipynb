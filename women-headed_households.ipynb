{
 "cells": [
  {
   "cell_type": "code",
   "execution_count": 16,
   "metadata": {},
   "outputs": [],
   "source": [
    "import pandas as pd\n",
    "import numpy as np\n",
    "import seaborn as sns\n",
    "#import os, random, math, glob\n",
    "#from IPython.display import Image as IM\n",
    "#from IPython.display import clear_output\n",
    "from matplotlib import pyplot as plt\n",
    "%matplotlib inline\n",
    "#from time import time\n",
    "#from scipy.stats import randint as sp_randint\n",
    "#from sklearn.model_selection import GridSearchCV\n",
    "from sklearn.model_selection import train_test_split\n",
    "import xgboost as xgb\n",
    "from sklearn.metrics import r2_score\n",
    "from sklearn.model_selection import cross_val_score\n",
    "from math import sqrt\n",
    "from sklearn.metrics import mean_squared_error\n",
    "from sklearn.ensemble import VotingRegressor\n",
    "from sklearn.ensemble import GradientBoostingRegressor\n",
    "from sklearn.ensemble import RandomForestRegressor\n",
    "from sklearn.linear_model import LinearRegression\n",
    "from sklearn import linear_model\n",
    "#from sklearn.linear_model import SGDRegressor\n",
    "#from sklearn.pipeline import Pipeline, FeatureUnion\n",
    "#from sklearn.preprocessing import FunctionTransformer, PolynomialFeatures\n",
    "#from sklearn.preprocessing import StandardScaler\n",
    "#from tpot import TPOTRegressor"
   ]
  },
  {
   "cell_type": "code",
   "execution_count": 19,
   "metadata": {},
   "outputs": [],
   "source": [
    "df = pd.read_csv('Train.csv')"
   ]
  },
  {
   "cell_type": "code",
   "execution_count": 20,
   "metadata": {},
   "outputs": [],
   "source": [
    "#deleting columns with Null values\n",
    "out_col = ['dw_12', 'dw_13', 'lan_13', 'pw_07', 'pw_08']\n",
    "df = df.drop(out_col, 1)\n",
    "\n",
    "#drop 'No' columnes.\n",
    "no_columns = [\"psa_01\", \"stv_01\", \"car_01\", \"lln_01\"]\n",
    "df = df.drop(no_columns, axis = 1)\n",
    "\n",
    "#average number of individual in household\n",
    "df['Household_Size'] = df['total_individuals']/df['total_households']\n",
    "\n",
    "#changing type of 'ward' column to numeric\n",
    "df['ward_num'] = df['ward'].apply(lambda x: x.split(\":\")[0])\n",
    "df['ward_num'] = pd.to_numeric(df[\"ward_num\"])\n",
    "\n",
    "df = df.drop('ADM4_PCODE', axis=1)"
   ]
  },
  {
   "cell_type": "code",
   "execution_count": 21,
   "metadata": {},
   "outputs": [],
   "source": [
    "#adding data about coordinates of cities and towns of South Africa\n",
    "towns = pd.read_excel(\"towns.xls\", index_col=None, header=None)\n",
    "cities = pd.read_excel(\"cities.xls\", index_col=None, header=None)"
   ]
  },
  {
   "cell_type": "code",
   "execution_count": 22,
   "metadata": {},
   "outputs": [],
   "source": [
    "def get_dist(value, cities, towns):#\n",
    "    dist_c = np.sqrt((cities[1]-value[0])**2 + (cities[2]-value[1])**2)\n",
    "    dist_t = np.sqrt((towns[1]-value[0])**2 + (towns[2]-value[1])**2)\n",
    "    mindist_c = dist_c.min() \n",
    "    mindist_t = dist_t.min()\n",
    "    return mindist_c, mindist_t"
   ]
  },
  {
   "cell_type": "code",
   "execution_count": 23,
   "metadata": {},
   "outputs": [],
   "source": [
    "#adding columns with distances to cities and towns \n",
    "df[['dist_c','dist_t']] = pd.DataFrame(df[[\"lat\", \"lon\"]].apply(lambda x: get_dist(x, cities, towns), axis=1).tolist(), index=df.index)"
   ]
  },
  {
   "cell_type": "code",
   "execution_count": 24,
   "metadata": {},
   "outputs": [
    {
     "data": {
      "image/png": "[encoded data removed]",
      "text/plain": [
       "<Figure size 432x288 with 1 Axes>"
      ]
     },
     "metadata": {
      "needs_background": "light"
     },
     "output_type": "display_data"
    }
   ],
   "source": [
    "#dw_03 and dw_04 has similar bihavior\n",
    "ax1 = df.plot(x='dw_03', y='target', kind='scatter', alpha=0.3, color='r')\n",
    "ax2 = df.plot(x='dw_04', y='target', kind='scatter', alpha=0.3, color='b', ax=ax1)"
   ]
  },
  {
   "cell_type": "code",
   "execution_count": 25,
   "metadata": {},
   "outputs": [],
   "source": [
    "# join 2 feature into one, maximazing them\n",
    "df['dw_03_04'] = df[[\"dw_03\", \"dw_04\"]].max(axis=1)\n",
    "df = df.drop(\"dw_03\", axis=1)\n",
    "df = df.drop(\"dw_04\", axis=1)"
   ]
  },
  {
   "cell_type": "code",
   "execution_count": 26,
   "metadata": {},
   "outputs": [],
   "source": [
    "#split target column on 11 ranges\n",
    "def get_diap(X):\n",
    "    if X < 5:\n",
    "        return 1\n",
    "    elif X < 10 and X > 5:\n",
    "        return 2\n",
    "    elif X < 15 and X > 10:\n",
    "        return 3\n",
    "    elif X < 20 and X > 15:\n",
    "        return 4 \n",
    "    elif X < 25 and X > 20:\n",
    "        return 5\n",
    "    elif X < 30 and X > 25:\n",
    "        return 6\n",
    "    elif X < 35 and X > 30:\n",
    "        return 7\n",
    "    elif X < 40 and X > 35:\n",
    "        return 8\n",
    "    elif X < 45 and X > 40:\n",
    "        return 9\n",
    "    elif X < 50 and X > 45:\n",
    "        return 10 \n",
    "    elif X < 56 and X > 50:\n",
    "        return 11 "
   ]
  },
  {
   "cell_type": "code",
   "execution_count": 27,
   "metadata": {},
   "outputs": [],
   "source": [
    "#adding column with target diapasons to split data evenly\n",
    "df[\"target_diap\"] = df[\"target\"].apply(lambda X: get_diap(X))\n",
    "X = df[df.columns.difference(['ward', 'target', 'target_diap'])]\n",
    "y = df['target']\n",
    "X_train, X_test, y_train, y_test = train_test_split(X, y, random_state=750, stratify = df[\"target_diap\"])"
   ]
  },
  {
   "cell_type": "code",
   "execution_count": 28,
   "metadata": {},
   "outputs": [],
   "source": [
    "reg1 = GradientBoostingRegressor(n_estimators=600)\n",
    "reg2 = linear_model.BayesianRidge(n_iter=2)\n",
    "reg3 = xgb.XGBRegressor(learning_rate=0.1, max_depth=4, n_estimators=100, objective='reg:squarederror', subsample=0.55, min_child_weight=9)\n",
    "vot = VotingRegressor(estimators=[('gb', reg1), ('br', reg2), ('xb', reg3)])\n",
    "vot = vot.fit(X_train, y_train)"
   ]
  },
  {
   "cell_type": "code",
   "execution_count": null,
   "metadata": {},
   "outputs": [],
   "source": []
  }
 ],
 "metadata": {
  "kernelspec": {
   "display_name": "Python 3",
   "language": "python",
   "name": "python3"
  },
  "language_info": {
   "codemirror_mode": {
    "name": "ipython",
    "version": 3
   },
   "file_extension": ".py",
   "mimetype": "text/x-python",
   "name": "python",
   "nbconvert_exporter": "python",
   "pygments_lexer": "ipython3",
   "version": "3.8.1"
  }
 },
 "nbformat": 4,
 "nbformat_minor": 2
}
